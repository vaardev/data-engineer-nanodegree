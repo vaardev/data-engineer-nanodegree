{
 "cells": [
  {
   "cell_type": "code",
   "execution_count": 15,
   "metadata": {
    "editable": true
   },
   "outputs": [],
   "source": [
    "import pandas as pd\n",
    "import boto3\n",
    "import json\n",
    "import psycopg2\n",
    "\n",
    "from botocore.exceptions import ClientError\n",
    "import configparser"
   ]
  },
  {
   "cell_type": "markdown",
   "metadata": {
    "editable": true
   },
   "source": [
    "Assign IAM Role for Redshift in order to establish a process flow with other AWS services (in our project:S3) - adaptation from Lesson 3: Implementing DataWarehouses in AWS"
   ]
  },
  {
   "cell_type": "code",
   "execution_count": 17,
   "metadata": {
    "editable": true
   },
   "outputs": [],
   "source": [
    "\n",
    "def create_iam_role(iam, DWH_IAM_ROLE_NAME):\n",
    "    \n",
    "\n",
    "    try:\n",
    "        print(\"1.1 Creating a new IAM Role\") \n",
    "        dwhRole = iam.create_role(\n",
    "            Path='/',\n",
    "            RoleName=DWH_IAM_ROLE_NAME,\n",
    "            Description = \"Allows Redshift clusters to call AWS services on your behalf.\",\n",
    "            AssumeRolePolicyDocument=json.dumps(\n",
    "                {'Statement': [{'Action': 'sts:AssumeRole',\n",
    "                'Effect': 'Allow',\n",
    "                'Principal': {'Service': 'redshift.amazonaws.com'}}],\n",
    "                'Version': '2012-10-17'})\n",
    "        )    \n",
    "    except Exception as e:\n",
    "        print(e)\n",
    "        \n",
    "        \n",
    "    print(\"1.2 Attaching Policy\")\n",
    "\n",
    "    iam.attach_role_policy(RoleName=DWH_IAM_ROLE_NAME,\n",
    "                        PolicyArn=\"arn:aws:iam::aws:policy/AmazonS3ReadOnlyAccess\"\n",
    "                        )['ResponseMetadata']['HTTPStatusCode']\n",
    "\n",
    "    print(\"1.3 Get the IAM role ARN\")\n",
    "    roleArn = iam.get_role(RoleName=DWH_IAM_ROLE_NAME)['Role']['Arn']\n",
    "\n",
    "    print(roleArn)\n",
    "    return roleArn"
   ]
  },
  {
   "cell_type": "markdown",
   "metadata": {
    "editable": true
   },
   "source": [
    "Assign AWS Redshift Cluster services - adaptation from Lesson 3: Implementing DataWarehouses in AWS"
   ]
  },
  {
   "cell_type": "code",
   "execution_count": 18,
   "metadata": {
    "editable": true
   },
   "outputs": [],
   "source": [
    "def create_cluster(redshift, roleArn, DWH_CLUSTER_TYPE, DWH_NODE_TYPE, DWH_NUM_NODES, DWH_DB, DWH_CLUSTER_IDENTIFIER, DWH_DB_USER, DWH_DB_PASSWORD):\n",
    "\n",
    "\n",
    "    try:\n",
    "        response = redshift.create_cluster(        \n",
    "            #HW\n",
    "            ClusterType=DWH_CLUSTER_TYPE,\n",
    "            NodeType=DWH_NODE_TYPE,\n",
    "            NumberOfNodes=int(DWH_NUM_NODES),\n",
    "\n",
    "            #Identifiers & Credentials\n",
    "            DBName=DWH_DB,\n",
    "            ClusterIdentifier=DWH_CLUSTER_IDENTIFIER,\n",
    "            MasterUsername=DWH_DB_USER,\n",
    "            MasterUserPassword=DWH_DB_PASSWORD,\n",
    "            \n",
    "            #Roles (for s3 access)\n",
    "            IamRoles=[roleArn]  \n",
    "        )\n",
    "    except Exception as e:\n",
    "        print(e)\n",
    "\n"
   ]
  },
  {
   "cell_type": "markdown",
   "metadata": {
    "editable": true
   },
   "source": [
    "Get Redshift clusters properties - adaptation from Lesson 3: Implementing DataWarehouses in AWS"
   ]
  },
  {
   "cell_type": "code",
   "execution_count": 19,
   "metadata": {
    "editable": true
   },
   "outputs": [],
   "source": [
    "def get_cluster_props(redshift, DWH_CLUSTER_IDENTIFIER):\n",
    "\n",
    "\n",
    "    def prettyRedshiftProps(props):\n",
    "        pd.set_option('display.max_colwidth', -1)\n",
    "        keysToShow = [\"ClusterIdentifier\", \"NodeType\", \"ClusterStatus\", \"MasterUsername\", \"DBName\", \"Endpoint\", \"NumberOfNodes\", 'VpcId']\n",
    "        x = [(k, v) for k,v in props.items() if k in keysToShow]\n",
    "        return pd.DataFrame(data=x, columns=[\"Key\", \"Value\"])\n",
    "\n",
    "    myClusterProps = redshift.describe_clusters(ClusterIdentifier=DWH_CLUSTER_IDENTIFIER)['Clusters'][0]\n",
    "    prettyRedshiftProps(myClusterProps)\n",
    "\n",
    "    DWH_ENDPOINT = myClusterProps['Endpoint']['Address']\n",
    "    DWH_ROLE_ARN = myClusterProps['IamRoles'][0]['IamRoleArn']\n",
    "    print(\"DWH_ENDPOINT :: \", DWH_ENDPOINT)\n",
    "    print(\"DWH_ROLE_ARN :: \", DWH_ROLE_ARN)\n",
    "    return myClusterProps, DWH_ENDPOINT, DWH_ROLE_ARN\n",
    "\n"
   ]
  },
  {
   "cell_type": "markdown",
   "metadata": {
    "editable": true
   },
   "source": [
    "Add allow rule in Cluster Security Group to enable access to Redshift port - adaptation from Lesson 3: Implementing DataWarehouses in AWS"
   ]
  },
  {
   "cell_type": "code",
   "execution_count": 20,
   "metadata": {
    "editable": true
   },
   "outputs": [],
   "source": [
    "def open_ports(ec2, myClusterProps, DWH_PORT):\n",
    "    '''\n",
    "    Update clusters security group to allow access through redshift port\n",
    "    '''\n",
    "\n",
    "    try:\n",
    "        vpc = ec2.Vpc(id=myClusterProps['VpcId'])\n",
    "        defaultSg = list(vpc.security_groups.all())[0]\n",
    "        print(defaultSg)\n",
    "        defaultSg.authorize_ingress(\n",
    "            GroupName=defaultSg.group_name,\n",
    "            CidrIp='0.0.0.0/0',\n",
    "            IpProtocol='TCP',\n",
    "            FromPort=int(DWH_PORT),\n",
    "            ToPort=int(DWH_PORT)\n",
    "        )\n",
    "    except Exception as e:\n",
    "        print(e)\n"
   ]
  },
  {
   "cell_type": "markdown",
   "metadata": {
    "editable": true
   },
   "source": [
    "Test using the same connection statement as we have in etl.py and create_table.py - adaptation from Lesson 3: Implementing DataWarehouses in AWS"
   ]
  },
  {
   "cell_type": "code",
   "execution_count": 23,
   "metadata": {
    "editable": true
   },
   "outputs": [
    {
     "name": "stdout",
     "output_type": "stream",
     "text": [
      "                    Param       Value\n",
      "0  DWH_CLUSTER_TYPE        multi-node\n",
      "1  DWH_NUM_NODES           4         \n",
      "2  DWH_NODE_TYPE           dc2.large \n",
      "3  DWH_CLUSTER_IDENTIFIER  dwhCluster\n",
      "4  DWH_DB                  dwh       \n",
      "5  DWH_DB_USER             dwhuser   \n",
      "6  DWH_DB_PASSWORD         Passw0rd  \n",
      "7  DWH_PORT                5439      \n",
      "8  DWH_IAM_ROLE_NAME       dwhRole   \n",
      "1.1 Creating a new IAM Role\n",
      "An error occurred (EntityAlreadyExists) when calling the CreateRole operation: Role with name dwhRole already exists.\n",
      "1.2 Attaching Policy\n",
      "1.3 Get the IAM role ARN\n",
      "arn:aws:iam::901832854903:role/dwhRole\n",
      "An error occurred (ClusterAlreadyExists) when calling the CreateCluster operation: Cluster already exists\n",
      "DWH_ENDPOINT ::  dwhcluster.c8bixyr4uvu1.us-west-2.redshift.amazonaws.com\n",
      "DWH_ROLE_ARN ::  arn:aws:iam::901832854903:role/dwhRole\n",
      "tuple indices must be integers or slices, not str\n",
      "Connected\n"
     ]
    }
   ],
   "source": [
    "def main():\n",
    "    \n",
    "    config = configparser.ConfigParser()\n",
    "    config.read_file(open('dwh.cfg'))\n",
    "\n",
    "    KEY                    = config.get('AWS','KEY')\n",
    "    SECRET                 = config.get('AWS','SECRET')\n",
    "\n",
    "    DWH_CLUSTER_TYPE       = config.get(\"DWH\",\"DWH_CLUSTER_TYPE\")\n",
    "    DWH_NUM_NODES          = config.get(\"DWH\",\"DWH_NUM_NODES\")\n",
    "    DWH_NODE_TYPE          = config.get(\"DWH\",\"DWH_NODE_TYPE\")\n",
    "\n",
    "    DWH_CLUSTER_IDENTIFIER = config.get(\"DWH\",\"DWH_CLUSTER_IDENTIFIER\")\n",
    "    DWH_DB                 = config.get(\"DWH\",\"DWH_DB\")\n",
    "    DWH_DB_USER            = config.get(\"DWH\",\"DWH_DB_USER\")\n",
    "    DWH_DB_PASSWORD        = config.get(\"DWH\",\"DWH_DB_PASSWORD\")\n",
    "    DWH_PORT               = config.get(\"DWH\",\"DWH_PORT\")\n",
    "\n",
    "    DWH_IAM_ROLE_NAME      = config.get(\"DWH\", \"DWH_IAM_ROLE_NAME\")\n",
    "\n",
    "    (DWH_DB_USER, DWH_DB_PASSWORD, DWH_DB)\n",
    "\n",
    "    df = pd.DataFrame({\"Param\":\n",
    "                    [\"DWH_CLUSTER_TYPE\", \"DWH_NUM_NODES\", \"DWH_NODE_TYPE\", \"DWH_CLUSTER_IDENTIFIER\", \"DWH_DB\", \"DWH_DB_USER\", \"DWH_DB_PASSWORD\", \"DWH_PORT\", \"DWH_IAM_ROLE_NAME\"],\n",
    "                \"Value\":\n",
    "                    [DWH_CLUSTER_TYPE, DWH_NUM_NODES, DWH_NODE_TYPE, DWH_CLUSTER_IDENTIFIER, DWH_DB, DWH_DB_USER, DWH_DB_PASSWORD, DWH_PORT, DWH_IAM_ROLE_NAME]\n",
    "                })\n",
    "\n",
    "    print(df)\n",
    "\n",
    "\n",
    "    ec2 = boto3.resource('ec2',\n",
    "                        region_name=\"us-west-2\",\n",
    "                        aws_access_key_id=KEY,\n",
    "                        aws_secret_access_key=SECRET\n",
    "                        )\n",
    "\n",
    "    s3 = boto3.resource('s3',\n",
    "                        region_name=\"us-west-2\",\n",
    "                        aws_access_key_id=KEY,\n",
    "                        aws_secret_access_key=SECRET\n",
    "                    )\n",
    "\n",
    "    iam = boto3.client('iam',aws_access_key_id=KEY,\n",
    "                        aws_secret_access_key=SECRET,\n",
    "                        region_name='us-west-2'\n",
    "                    )\n",
    "\n",
    "    redshift = boto3.client('redshift',\n",
    "                        region_name=\"us-west-2\",\n",
    "                        aws_access_key_id=KEY,\n",
    "                        aws_secret_access_key=SECRET\n",
    "                        )\n",
    "\n",
    "    roleArn = create_iam_role(iam, DWH_IAM_ROLE_NAME)\n",
    "\n",
    "    create_cluster(redshift, roleArn, DWH_CLUSTER_TYPE, DWH_NODE_TYPE, DWH_NUM_NODES, DWH_DB, DWH_CLUSTER_IDENTIFIER, DWH_DB_USER, DWH_DB_PASSWORD)\n",
    "\n",
    "    myClusterProps = get_cluster_props(redshift, DWH_CLUSTER_IDENTIFIER)\n",
    "\n",
    "    open_ports(ec2, myClusterProps, DWH_PORT)\n",
    "\n",
    "    conn = psycopg2.connect(\"host={} dbname={} user={} password={} port={}\".format(*config['CLUSTER'].values()))\n",
    "    cur = conn.cursor()\n",
    "\n",
    "    print('Connected')\n",
    "\n",
    "    conn.close()\n",
    "\n",
    "\n",
    "if __name__ == \"__main__\":\n",
    "    main()"
   ]
  }
 ],
 "metadata": {
  "kernelspec": {
   "display_name": "Python 3",
   "language": "python",
   "name": "python3"
  },
  "language_info": {
   "codemirror_mode": {
    "name": "ipython",
    "version": 3
   },
   "file_extension": ".py",
   "mimetype": "text/x-python",
   "name": "python",
   "nbconvert_exporter": "python",
   "pygments_lexer": "ipython3",
   "version": "3.6.3"
  }
 },
 "nbformat": 4,
 "nbformat_minor": 4
}
